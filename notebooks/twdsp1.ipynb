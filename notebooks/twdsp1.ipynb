{
 "cells": [
  {
   "cell_type": "markdown",
   "metadata": {
    "collapsed": false,
    "pycharm": {
     "name": "#%% md\n"
    }
   },
   "source": [
    "# Implementation\n",
    "C-splines are typically interpolated from data points. So in a first step we need to convert our image with filamentous\n",
    "structures somehow to a set of coordinate data points. The way to go is to somehow convert the image into a binary\n",
    "format i.e. zeroes and ones and reduce the resulting set of pixels to a subset that sufficiently describes the structure\n",
    "of the line. Then we can pick the coordinates of the remaining pixels and fit a c-spline to them.\n",
    "Since we are working with python there are already some convinient libraries, which we can use for our image processing\n",
    "operations. The two most important ones we need here are skimage and pyopencv."
   ]
  },
  {
   "cell_type": "code",
   "execution_count": 1,
   "metadata": {
    "collapsed": false,
    "pycharm": {
     "name": "#%%\n"
    }
   },
   "outputs": [],
   "source": [
    "import os\n",
    "import tifffile as tif\n",
    "import cv2\n",
    "import numpy as np\n",
    "from skimage.morphology import skeletonize_3d\n",
    "import matplotlib.pyplot as plt"
   ]
  },
  {
   "cell_type": "markdown",
   "metadata": {
    "collapsed": false,
    "pycharm": {
     "name": "#%% md\n"
    }
   },
   "source": [
    "## Extracting the structure of filamentous image data\n",
    "In a first step we have to convert image data to a set of discrete and connected points. Since we want to fit to a continous line we first blur the image to compensate holes in the structure missing signal. In a second step we convert the image to binary values by applying a thresholding algorithm. We then skeletonize_3d the result to reduce the number of nonzero points in the image. This also gives a first estimate for the center of the line."
   ]
  },
  {
   "cell_type": "code",
   "execution_count": 2,
   "metadata": {
    "collapsed": false,
    "pycharm": {
     "name": "#%%\n"
    }
   },
   "outputs": [
    {
     "data": {
      "text/plain": [
       "-1"
      ]
     },
     "execution_count": 2,
     "metadata": {},
     "output_type": "execute_result"
    }
   ],
   "source": [
    "with tif.TiffFile(os.path.dirname(os.getcwd()) + r\"\\test_data\\Expansion dSTORM-Line Profile test.tif\") as file:\n",
    "    image = file.asarray().astype(np.uint8)*40\n",
    "\n",
    "# Less noise and holes -> lower blur\n",
    "blur = 20\n",
    "image = cv2.blur(image, (blur, blur))\n",
    "\n",
    "# build threshold image\n",
    "ret, thresh = cv2.threshold(image, 0, 1,  cv2.THRESH_OTSU)\n",
    "\n",
    "# cast to uint8 since cv2 is C++ and sensitive to data types\n",
    "skeleton = skeletonize_3d(thresh.astype(np.uint8)).astype(np.uint8)\n",
    "cv2.imshow(\"skeletonized microtubules\", skeleton * 255)\n",
    "cv2.waitKey(0)"
   ]
  },
  {
   "cell_type": "markdown",
   "metadata": {
    "collapsed": false,
    "pycharm": {
     "name": "#%% md\n"
    }
   },
   "source": [
    "## Converting the skeletonized image to a point set\n",
    "In a second step we assign the coordinates of remaining pixels to a continous line by using skimages label. The label function assigns an equal number to all pixels !=0 that are either directly (connectivity=1) or diagonally (connectivity=2) connected. Therefore, all pixels in one filament now have the same unique value. Iterating over the maximum value of the label image we can simply collect the coordinates by using the np.where function. By only collecting connected structures of a certain size we discard noise or unconnected signal which made it past the thresholding algorithm."
   ]
  },
  {
   "cell_type": "code",
   "execution_count": 3,
   "metadata": {
    "collapsed": false,
    "pycharm": {
     "name": "#%%\n"
    }
   },
   "outputs": [
    {
     "data": {
      "image/png": "[encoded data removed]",
      "text/plain": [
       "<Figure size 432x288 with 1 Axes>"
      ]
     },
     "metadata": {
      "needs_background": "light"
     },
     "output_type": "display_data"
    }
   ],
   "source": [
    "from skimage.measure import label\n",
    "min_len = 50\n",
    "colormap = label(skeleton, connectivity=2)\n",
    "lines = []\n",
    "for i in range(colormap.max()):\n",
    "    j = i + 1\n",
    "    line = np.where(colormap == j)\n",
    "    if len(line[0]) > min_len:\n",
    "        lines.append(line)\n",
    "    else:\n",
    "        for k in range(line[1].shape[0]):\n",
    "            skeleton[line[0][k], line[1][k]] = 0\n",
    "plt.imshow(colormap,cmap=\"hot\")\n",
    "plt.show()"
   ]
  },
  {
   "cell_type": "markdown",
   "metadata": {
    "collapsed": false,
    "pycharm": {
     "name": "#%% md\n"
    }
   },
   "source": [
    "## Sort the point set and fit it to a c-spline\n",
    "Sort the points by nearest neighbors (np.where doesn't always give the correct order of the points):"
   ]
  },
  {
   "cell_type": "code",
   "execution_count": 16,
   "metadata": {
    "collapsed": false,
    "pycharm": {
     "name": "#%%\n"
    }
   },
   "outputs": [],
   "source": [
    "from sklearn.neighbors import NearestNeighbors\n",
    "import networkx as nx\n",
    "# pick random line out of our labels\n",
    "points = np.array(lines[0]).T\n",
    "# Test if the pointset has the correct shape\n",
    "if points.shape[1]!=2:\n",
    "    raise ValueError(f\"Wrong pointset dim {points.shape[1]} should be 2\")\n",
    "clf = NearestNeighbors(2).fit(points)\n",
    "G = clf.kneighbors_graph()\n",
    "T = nx.from_scipy_sparse_matrix(G)\n",
    "order = list(nx.dfs_preorder_nodes(T, 0))\n",
    "points = points[order]"
   ]
  },
  {
   "cell_type": "markdown",
   "metadata": {
    "collapsed": false,
    "pycharm": {
     "name": "#%% md\n"
    }
   },
   "source": [
    "To get a fitting parameterization for our spline coordinates we introduce the dimension z that discribes where we are on the filament. You can imagine this like a coordinate transformation were walking forward means walking along the described structure. z is defined within [0,1] where 0 is the start of the filament and 1 is the end of the filament. Our spline functions describe the transformation from filament space to real space, interpolating y(z) and x(z). We initialize z as 0 and add the commulative distance of neighboring pixels. By dividing by z.max() the coordinate space is normed."
   ]
  },
  {
   "cell_type": "code",
   "execution_count": 17,
   "metadata": {
    "collapsed": false,
    "pycharm": {
     "name": "#%%\n"
    }
   },
   "outputs": [],
   "source": [
    "# Compute the normed commulative distance\n",
    "z = np.zeros(points.shape[0])\n",
    "z[1:] = np.cumsum(np.sqrt(np.sum(np.diff(points, axis=0) ** 2, axis=1)))\n",
    "z /= z.max()"
   ]
  },
  {
   "cell_type": "markdown",
   "metadata": {
    "collapsed": false,
    "pycharm": {
     "name": "#%% md\n"
    }
   },
   "source": [
    "Last thing left is to interpolate the splines x(z) and y(z) and their derivatives. This can be done with scipy.interpolate.UnivariateSpline:"
   ]
  },
  {
   "cell_type": "code",
   "execution_count": 18,
   "metadata": {
    "collapsed": false,
    "pycharm": {
     "name": "#%%\n"
    }
   },
   "outputs": [
    {
     "data": {
      "image/png": "[encoded data removed]",
      "text/plain": [
       "<Figure size 432x288 with 2 Axes>"
      ]
     },
     "metadata": {
      "needs_background": "light"
     },
     "output_type": "display_data"
    }
   ],
   "source": [
    "from scipy.interpolate import UnivariateSpline\n",
    "n= points.shape[0]\n",
    "smoothing = 3\n",
    "# Degree of spline: 3 for c-spline\n",
    "spline_order = 3\n",
    "# Spline for x and spline for y\n",
    "splines = [UnivariateSpline(z, coords, k=spline_order, s=n*smoothing) for coords in points.T]\n",
    "dsplines = [spline.derivative() for spline in splines]\n",
    "# Code for one spline your have to iterate over all lines to get\n",
    "\n",
    "# Sample [0,1] for spline coordinates\n",
    "n_samples = np.linspace(0,1,100)\n",
    "spline_positions = np.array([spl(n_samples) for spl in splines])\n",
    "# We need these later\n",
    "dspline_gradients = np.array([spl(n_samples) for spl in dsplines])\n",
    "\n",
    "fig, axs = plt.subplots(2)\n",
    "axs[0].plot(n_samples, spline_positions[0], label=\"x(z)\")\n",
    "axs[0].plot(n_samples, spline_positions[1], label=\"y(z)\")\n",
    "axs[0].legend()\n",
    "axs[0].set_xlabel(\"z\")\n",
    "axs[0].set_ylabel(\"coordinates\")\n",
    "# the displayed image\n",
    "axs[1].imshow(image)\n",
    "axs[1].plot(spline_positions[1],spline_positions[0], color='red')\n",
    "plt.show()"
   ]
  },
  {
   "cell_type": "code",
   "execution_count": 1,
   "metadata": {
    "collapsed": false,
    "pycharm": {
     "name": "#%%\n"
    }
   },
   "outputs": [
    {
     "ename": "NameError",
     "evalue": "name 'np' is not defined",
     "traceback": [
      "\u001b[1;31m---------------------------------------------------------------------------\u001b[0m",
      "\u001b[1;31mNameError\u001b[0m                                 Traceback (most recent call last)",
      "\u001b[1;32m<ipython-input-1-efe532d35188>\u001b[0m in \u001b[0;36m<module>\u001b[1;34m()\u001b[0m\n\u001b[0;32m      5\u001b[0m \u001b[1;33m\u001b[0m\u001b[0m\n\u001b[0;32m      6\u001b[0m \u001b[1;31m#build RGBA color image\u001b[0m\u001b[1;33m\u001b[0m\u001b[1;33m\u001b[0m\u001b[0m\n\u001b[1;32m----> 7\u001b[1;33m \u001b[0mprofiles\u001b[0m \u001b[1;33m=\u001b[0m \u001b[0mnp\u001b[0m\u001b[1;33m.\u001b[0m\u001b[0mzeros\u001b[0m\u001b[1;33m(\u001b[0m\u001b[1;33m(\u001b[0m\u001b[0mimage\u001b[0m\u001b[1;33m.\u001b[0m\u001b[0mshape\u001b[0m\u001b[1;33m[\u001b[0m\u001b[1;36m0\u001b[0m\u001b[1;33m]\u001b[0m\u001b[1;33m,\u001b[0m\u001b[0mimage\u001b[0m\u001b[1;33m.\u001b[0m\u001b[0mshape\u001b[0m\u001b[1;33m[\u001b[0m\u001b[1;36m1\u001b[0m\u001b[1;33m]\u001b[0m\u001b[1;33m,\u001b[0m \u001b[1;36m4\u001b[0m\u001b[1;33m)\u001b[0m\u001b[1;33m)\u001b[0m\u001b[1;33m.\u001b[0m\u001b[0mastype\u001b[0m\u001b[1;33m(\u001b[0m\u001b[0mnp\u001b[0m\u001b[1;33m.\u001b[0m\u001b[0muint16\u001b[0m\u001b[1;33m)\u001b[0m\u001b[1;33m\u001b[0m\u001b[0m\n\u001b[0m\u001b[0;32m      8\u001b[0m \u001b[1;33m\u001b[0m\u001b[0m\n\u001b[0;32m      9\u001b[0m \u001b[0mprofiles\u001b[0m \u001b[1;33m+=\u001b[0m \u001b[0mimage\u001b[0m\u001b[1;33m[\u001b[0m\u001b[1;33m:\u001b[0m\u001b[1;33m,\u001b[0m\u001b[1;33m:\u001b[0m\u001b[1;33m,\u001b[0m\u001b[0mnp\u001b[0m\u001b[1;33m.\u001b[0m\u001b[0mnewaxis\u001b[0m\u001b[1;33m]\u001b[0m\u001b[1;33m\u001b[0m\u001b[0m\n",
      "\u001b[1;31mNameError\u001b[0m: name 'np' is not defined"
     ],
     "output_type": "error"
    }
   ],
   "source": [
    "from collections import namedtuple\n",
    "from scipy import ndimage\n",
    "\n",
    "width = 50\n",
    "\n",
    "#build RGBA color image\n",
    "profiles = np.zeros((image.shape[0],image.shape[1], 4)).astype(np.uint16)\n",
    "\n",
    "profiles += image[:,:,np.newaxis]\n",
    "\n",
    "all_line_profiles = []\n",
    "color = np.array([1.0,.0,.0,.5])\n",
    "line_profile = namedtuple(\"line_profile\", \"x y\")\n",
    "for point, gradient in zip(spline_positions.T, dspline_gradients.T):\n",
    "\n",
    "    direction = np.arctan(gradient[1]/gradient[0])+np.pi/2\n",
    "    x_i = -width / 2 * np.cos(direction)\n",
    "    y_i = -width / 2 * np.sin(direction)\n",
    "    # length of line\n",
    "    num = int(2*np.round(np.sqrt(x_i ** 2 + y_i ** 2)))\n",
    "    #\n",
    "    line = line_profile(np.linspace(point[0] - x_i, point[0] + x_i,  num),\n",
    "                        np.linspace(point[1] - y_i, point[1] + y_i,  num))\n",
    "    # kick one num...\n",
    "    all_line_profiles.append(line)\n",
    "    if line.x.min() >= 0 and line.y.min() >= 0 and line.x.max() < image.shape[0] and line.y.max() < \\\n",
    "            image.shape[1]:\n",
    "        profiles[line.x.astype(np.int32), line.y.astype(np.int32)] = np.array(color) * 50000\n",
    "\n",
    "    test = ndimage.map_coordinates(image, np.vstack((line_profile.x, line_profile.y)))\n",
    "\n",
    "plt.imshow(profiles)\n",
    "plt.show()"
   ]
  },
  {
   "cell_type": "code",
   "execution_count": null,
   "metadata": {},
   "outputs": [],
   "source": []
  }
 ],
 "metadata": {
  "kernelspec": {
   "display_name": "Python 3",
   "language": "python",
   "name": "python3"
  },
  "language_info": {
   "codemirror_mode": {
    "name": "ipython",
    "version": 2
   },
   "file_extension": ".py",
   "mimetype": "text/x-python",
   "name": "python",
   "nbconvert_exporter": "python",
   "pygments_lexer": "ipython2",
   "version": "2.7.6"
  }
 },
 "nbformat": 4,
 "nbformat_minor": 0
}
