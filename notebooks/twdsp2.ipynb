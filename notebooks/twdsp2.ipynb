{
 "cells": [
  {
   "cell_type": "markdown",
   "metadata": {
    "collapsed": false,
    "pycharm": {
     "name": "#%% md\n"
    }
   },
   "source": [
    "# Implementation part 2"
   ]
  },
  {
   "cell_type": "code",
   "execution_count": 3,
   "metadata": {
    "collapsed": true,
    "pycharm": {
     "name": "#%%\n"
    }
   },
   "outputs": [],
   "source": [
    "import os\n",
    "import tifffile as tif\n",
    "import cv2\n",
    "import numpy as np\n",
    "from src.controllers.utility import compute_spline\n",
    "\n",
    "with tif.TiffFile(os.getcwd() + r\"\\test_data\\Expansion dSTORM-Line Profile test.tif\") as file:\n",
    "    image = file.asarray().astype(np.uint8)*40"
   ]
  },
  {
   "cell_type": "markdown",
   "metadata": {
    "collapsed": false,
    "pycharm": {
     "name": "#%% md\n"
    }
   },
   "source": [
    "We run the steps from part 1 with the helper function compute spline and receive a `CustomSpline` object. Using the `sample` function with the number of points gives us the center points of our spline."
   ]
  },
  {
   "cell_type": "code",
   "execution_count": 5,
   "metadata": {
    "collapsed": false,
    "pycharm": {
     "name": "#%%\n"
    }
   },
   "outputs": [
    {
     "name": "stdout",
     "output_type": "stream",
     "text": [
      "0\n1\n2\n3\n4\n5\n6\n"
     ]
    }
   ],
   "source": [
    "spline = compute_spline(image, blur=20, )[0]\n",
    "sample = spline.sample(spline.n_points)"
   ]
  },
  {
   "cell_type": "markdown",
   "metadata": {},
   "source": [
    "To fit the results into a bimodal gaussian we just have to sum two of those functions with independent parameters. To only apply a background once we set B=0 within the distributions and add an additional B to our bigaussian model."
   ]
  },
  {
   "cell_type": "code",
   "execution_count": null,
   "metadata": {},
   "outputs": [],
   "source": [
    "def gaussian(x, I, sig, c, B):\n",
    "    return I* np.exp(-(x - c) ** 2 / (2 * sig** 2)) + B\n",
    "\n",
    "\n",
    "def bigaussian(x, I1, sig1, c1, I2, sig2, c2, B):\n",
    "    return (gaussian(x, I1, sig1, c1, 0) +\n",
    "            gaussian(x, I2, sig2, c2, 0) + B)"
   ]
  },
  {
   "cell_type": "markdown",
   "metadata": {},
   "source": [
    "# Fit data to the defined function:\n",
    "Fitting a function to data in python is quite easy since (like for kinda everything else) there were already some people who did the work for us. We will use scipy.optimize to do the job.\n",
    "The estimization of initial parameters is crucial for a good fit. Therefore, we estimate a first guess for our parameters and bind the scipy optimization to stay within reasonable bounds.\n",
    "The first thing we require is that all our parameters are >0 that's why we set the first value of every tuple to 0. The intensity I is constraint with an upper bound of the datas maximum value. We basically don't care what our sigma is doing and set the maximum to np.inf . However we want our center to stay within the bounds of our line profile."
   ]
  },
  {
   "cell_type": "code",
   "execution_count": null,
   "metadata": {},
   "outputs": [],
   "source": [
    "def bounds(data):\n",
    "    return np.array([[0, data.max() + 0.1], [0, np.inf], [0, data.shape[0]],\n",
    "                    [0, data.max() + 0.1], [0, np.inf], [0, data.shape[0]],\n",
    "                     [0, 0.1]]).T\n",
    "\n",
    "def guess(data):\n",
    "    return [data.max()/2, 0.5, np.where(data==data.max())[0],\n",
    "            data.max()/2, 0.5, np.where(data==data.max())[0], 0]"
   ]
  },
  {
   "cell_type": "code",
   "execution_count": null,
   "metadata": {},
   "outputs": [],
   "source": [
    "def fit_data_to(func, x, data):\n",
    "    # calculate error by squared distance to data\n",
    "    errfunc = lambda p, x, y: (func(x, *p) - y) ** 2\n",
    "\n",
    "    result = optimize.least_squares(errfunc, guess(data), bounds=bounds(data), args=(x, data))\n",
    "    optim = result.x\n",
    "    return optim"
   ]
  },
  {
   "cell_type": "code",
   "execution_count": null,
   "metadata": {},
   "outputs": [],
   "source": [
    "x = np.arange(0,interpolated_profile.shape[0],1)\n",
    "fig = plt.figure()\n",
    "ax1 = fig.add_axes((0.1, 0.2, 0.8, 0.7))\n",
    "ax1.plot(x, interpolated_profile / interpolated_profile.max(), c=\"r\", label=\"averaged line profile\")\n",
    "\n",
    "optim = fit_data_to(bigaussian, x, interpolated_profile)\n",
    "ax1.plot(x, bigaussian(x, *optim) / interpolated_profile.max(),\n",
    "         lw=1, c=\"b\", ls='--', label=\"bigaussian fit\")\n",
    "ax1.legend(loc='best')\n",
    "ax1.set_ylabel(\"normed intensity [a.u.]\")\n",
    "ax1.set_xlabel(\"distance [nm]\")\n",
    "plt.show()"
   ]
  }
 ],
 "metadata": {
  "kernelspec": {
   "display_name": "Python 3",
   "language": "python",
   "name": "python3"
  },
  "language_info": {
   "codemirror_mode": {
    "name": "ipython",
    "version": 2
   },
   "file_extension": ".py",
   "mimetype": "text/x-python",
   "name": "python",
   "nbconvert_exporter": "python",
   "pygments_lexer": "ipython2",
   "version": "2.7.6"
  }
 },
 "nbformat": 4,
 "nbformat_minor": 0
}
